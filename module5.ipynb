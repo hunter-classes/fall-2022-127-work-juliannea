{
 "cells": [
  {
   "cell_type": "code",
   "execution_count": 10,
   "id": "96565328",
   "metadata": {},
   "outputs": [
    {
     "name": "stdout",
     "output_type": "stream",
     "text": [
      "          id   gpa  gre college_prep        major_applied  num_ext_act  \\\n",
      "0          1  3.43  284          Yes       Communications            1   \n",
      "1          2  3.31  297          Yes       Communications            4   \n",
      "2          3  3.08  304          Yes        Life Sciences            0   \n",
      "3          4  3.70  309          Yes      Social Sciences            0   \n",
      "4          5  3.04  295           No       Communications            5   \n",
      "...      ...   ...  ...          ...                  ...          ...   \n",
      "24995  24996  3.98  296          Yes        Life Sciences            0   \n",
      "24996  24997  3.59  329          Yes             Business            4   \n",
      "24997  24998  3.82  323          Yes  Information Systems            3   \n",
      "24998  24999  2.69  312          Yes      Social Sciences            2   \n",
      "24999  25000  2.51  262          Yes      Social Sciences            0   \n",
      "\n",
      "       num_ap_passed  essay_score  num_letter_rec fasfa_status admission  \n",
      "0                  8            6               3    Completed  Rejected  \n",
      "1                  8           10               3  In Progress  Accepted  \n",
      "2                  5            7               3  Not Started  Accepted  \n",
      "3                  7            4               2  In Progress  Accepted  \n",
      "4                  5           10               2    Completed  Accepted  \n",
      "...              ...          ...             ...          ...       ...  \n",
      "24995              4            3               1    Completed  Accepted  \n",
      "24996              0            6               2    Completed  Accepted  \n",
      "24997              2            3               2    Completed  Rejected  \n",
      "24998              5            9               3  Not Started  Accepted  \n",
      "24999              0           10               2    Completed  Rejected  \n",
      "\n",
      "[25000 rows x 11 columns]\n"
     ]
    }
   ],
   "source": [
    "import pandas as pd \n",
    "import seaborn as sns\n",
    "import numpy as np \n",
    "\n",
    "df = pd.read_csv('module5_assignment_dataset.csv')\n",
    "print(df)"
   ]
  },
  {
   "cell_type": "code",
   "execution_count": 11,
   "id": "7b6a1676",
   "metadata": {},
   "outputs": [
    {
     "name": "stdout",
     "output_type": "stream",
     "text": [
      "2.288206323985592\n"
     ]
    }
   ],
   "source": [
    "print(df['essay_score'].std()) #finds standard deviation of essay score"
   ]
  },
  {
   "cell_type": "code",
   "execution_count": 12,
   "id": "3933a1fe",
   "metadata": {},
   "outputs": [
    {
     "name": "stdout",
     "output_type": "stream",
     "text": [
      "2.5830600903535674\n"
     ]
    }
   ],
   "source": [
    "print(df['num_ap_passed'].std()) #prints standard deviation of number of ap passed "
   ]
  },
  {
   "cell_type": "code",
   "execution_count": 13,
   "id": "7950110b",
   "metadata": {},
   "outputs": [
    {
     "name": "stdout",
     "output_type": "stream",
     "text": [
      "0.4333458502870847\n"
     ]
    }
   ],
   "source": [
    "print(df['gpa'].std()) #prints standard deviation of gpa "
   ]
  },
  {
   "cell_type": "code",
   "execution_count": 14,
   "id": "7d3f192e",
   "metadata": {},
   "outputs": [
    {
     "name": "stdout",
     "output_type": "stream",
     "text": [
      "14.994175609298733\n"
     ]
    }
   ],
   "source": [
    "print(df['gre'].std()) #prints standard deviation of gre "
   ]
  },
  {
   "cell_type": "code",
   "execution_count": 15,
   "id": "ffd6480f",
   "metadata": {},
   "outputs": [
    {
     "data": {
      "text/plain": [
       "Text(0, 0.5, 'Respondents')"
      ]
     },
     "execution_count": 15,
     "metadata": {},
     "output_type": "execute_result"
    },
    {
     "data": {
      "image/png": "[encoded data removed]",
      "text/plain": [
       "<Figure size 432x288 with 1 Axes>"
      ]
     },
     "metadata": {},
     "output_type": "display_data"
    }
   ],
   "source": [
    "#gpa visualization histogram \n",
    "from matplotlib import pyplot as plt\n",
    "plt.style.use('fivethirtyeight') #style used to make it look nicer \n",
    "data = df #reads data set\n",
    "gpa = data['gpa']\n",
    "bins = [1,1.5,2,2.5,3,3.5,4,4.5]\n",
    "plt.hist(gpa, bins=bins, edgecolor='black')\n",
    "plt.title('GPA and Respondents')\n",
    "plt.xlabel('GPA')\n",
    "plt.ylabel('Respondents')"
   ]
  },
  {
   "cell_type": "code",
   "execution_count": 16,
   "id": "be6bf0b2",
   "metadata": {},
   "outputs": [
    {
     "data": {
      "text/plain": [
       "Text(0, 0.5, 'Respondents')"
      ]
     },
     "execution_count": 16,
     "metadata": {},
     "output_type": "execute_result"
    },
    {
     "data": {
      "image/png": "[encoded data removed]",
      "text/plain": [
       "<Figure size 432x288 with 1 Axes>"
      ]
     },
     "metadata": {},
     "output_type": "display_data"
    }
   ],
   "source": [
    "plt.style.use('fivethirtyeight') #style used to make it look nicer \n",
    "data = df #reads data set\n",
    "gre = data['gre']\n",
    "bins = [50,100,150,200,250,300,350,400]\n",
    "plt.hist(gre, bins=bins, edgecolor='black')\n",
    "plt.title('Gre and Respondents')\n",
    "plt.xlabel('Gre')\n",
    "plt.ylabel('Respondents')"
   ]
  },
  {
   "cell_type": "code",
   "execution_count": 18,
   "id": "79a809cf",
   "metadata": {},
   "outputs": [
    {
     "data": {
      "image/png": "[encoded data removed]",
      "text/plain": [
       "<Figure size 432x288 with 1 Axes>"
      ]
     },
     "metadata": {},
     "output_type": "display_data"
    }
   ],
   "source": [
    "#College Prep Visualization \n",
    "sns.set_theme(style = 'whitegrid')\n",
    "\n",
    "ax = sns.barplot(x = 'college_prep', y = 'id', data = df)"
   ]
  },
  {
   "cell_type": "code",
   "execution_count": 19,
   "id": "1b9ed2cf",
   "metadata": {},
   "outputs": [
    {
     "data": {
      "image/png": "[encoded data removed]",
      "text/plain": [
       "<Figure size 432x288 with 1 Axes>"
      ]
     },
     "metadata": {},
     "output_type": "display_data"
    }
   ],
   "source": [
    "#major_applied visualization \n",
    "sns.set_theme(style = 'whitegrid')\n",
    "\n",
    "ax = sns.barplot(x = 'major_applied', y = 'id', data = df)"
   ]
  },
  {
   "cell_type": "code",
   "execution_count": 21,
   "id": "cac5a465",
   "metadata": {},
   "outputs": [
    {
     "data": {
      "text/plain": [
       "Text(0, 0.5, 'Respondents')"
      ]
     },
     "execution_count": 21,
     "metadata": {},
     "output_type": "execute_result"
    },
    {
     "data": {
      "image/png": "[encoded data removed]",
      "text/plain": [
       "<Figure size 432x288 with 1 Axes>"
      ]
     },
     "metadata": {},
     "output_type": "display_data"
    }
   ],
   "source": [
    "#num_ext_act visualization\n",
    "plt.style.use('fivethirtyeight') #style used to make it look nicer \n",
    "data = df #reads data set\n",
    "num_ext_act = data['num_ext_act']\n",
    "bins = [1,2,3,4,5]\n",
    "plt.hist(num_ext_act, bins=bins, edgecolor='black')\n",
    "plt.title('Number Ext ACT and Respondents')\n",
    "plt.xlabel('Number Ext ACT')\n",
    "plt.ylabel('Respondents')"
   ]
  },
  {
   "cell_type": "code",
   "execution_count": 25,
   "id": "eeb4da28",
   "metadata": {},
   "outputs": [
    {
     "data": {
      "text/plain": [
       "Text(0, 0.5, 'Respondents')"
      ]
     },
     "execution_count": 25,
     "metadata": {},
     "output_type": "execute_result"
    },
    {
     "data": {
      "image/png": "[encoded data removed]",
      "text/plain": [
       "<Figure size 432x288 with 1 Axes>"
      ]
     },
     "metadata": {},
     "output_type": "display_data"
    }
   ],
   "source": [
    "#num of ap passed visualiztion \n",
    "plt.style.use('fivethirtyeight') #style used to make it look nicer \n",
    "data = df #reads data set\n",
    "num_ap_passed = data['num_ap_passed']\n",
    "bins = [1,2,3,4,5,6,7,8,9,10]\n",
    "plt.hist(num_ap_passed, bins=bins, edgecolor='black')\n",
    "plt.title('Number AP Passed and Respondents')\n",
    "plt.xlabel('Number AP Passed')\n",
    "plt.ylabel('Respondents')"
   ]
  },
  {
   "cell_type": "code",
   "execution_count": 27,
   "id": "fb4a1d4a",
   "metadata": {},
   "outputs": [
    {
     "data": {
      "image/png": "[encoded data removed]",
      "text/plain": [
       "<Figure size 432x288 with 1 Axes>"
      ]
     },
     "metadata": {},
     "output_type": "display_data"
    }
   ],
   "source": [
    "data = df #reads data set\n",
    "num_letter_rec = data['num_letter_rec']  \n",
    "essay_score = data['essay_score'] #sets BMI to BMI column \n",
    "plt.scatter(essay_score,num_letter_rec,edgecolor = 'black', linewidth=1, alpha =.75)\n",
    "plt.title('Number of Rec Letters and Essay Score')\n",
    "plt.ylabel('Number of Rec Letters')\n",
    "plt.xlabel('Essay Score')\n",
    "plt.tight_layout()"
   ]
  },
  {
   "cell_type": "code",
   "execution_count": 28,
   "id": "e4e19717",
   "metadata": {},
   "outputs": [
    {
     "data": {
      "image/png": "[encoded data removed]",
      "text/plain": [
       "<Figure size 432x288 with 1 Axes>"
      ]
     },
     "metadata": {},
     "output_type": "display_data"
    }
   ],
   "source": [
    "#barplot for fasfa status \n",
    "sns.set_theme(style = 'whitegrid')\n",
    "\n",
    "ax = sns.barplot(x = 'fasfa_status', y = 'id', data = df)"
   ]
  },
  {
   "cell_type": "code",
   "execution_count": 29,
   "id": "f87f80f2",
   "metadata": {},
   "outputs": [
    {
     "data": {
      "image/png": "[encoded data removed]",
      "text/plain": [
       "<Figure size 432x288 with 1 Axes>"
      ]
     },
     "metadata": {},
     "output_type": "display_data"
    }
   ],
   "source": [
    "#barplot for admission \n",
    "sns.set_theme(style = 'whitegrid')\n",
    "\n",
    "ax = sns.barplot(x = 'admission', y = 'id', data = df)"
   ]
  },
  {
   "cell_type": "code",
   "execution_count": null,
   "id": "598d1155",
   "metadata": {},
   "outputs": [],
   "source": [
    "#the skewness is zero and the shape is uniform "
   ]
  },
  {
   "cell_type": "code",
   "execution_count": 32,
   "id": "497dcac3",
   "metadata": {},
   "outputs": [
    {
     "data": {
      "text/html": [
       "<div>\n",
       "<style scoped>\n",
       "    .dataframe tbody tr th:only-of-type {\n",
       "        vertical-align: middle;\n",
       "    }\n",
       "\n",
       "    .dataframe tbody tr th {\n",
       "        vertical-align: top;\n",
       "    }\n",
       "\n",
       "    .dataframe thead th {\n",
       "        text-align: right;\n",
       "    }\n",
       "</style>\n",
       "<table border=\"1\" class=\"dataframe\">\n",
       "  <thead>\n",
       "    <tr style=\"text-align: right;\">\n",
       "      <th></th>\n",
       "      <th>id</th>\n",
       "      <th>gpa</th>\n",
       "      <th>gre</th>\n",
       "      <th>num_ext_act</th>\n",
       "      <th>num_ap_passed</th>\n",
       "      <th>essay_score</th>\n",
       "      <th>num_letter_rec</th>\n",
       "      <th>college_prep_No</th>\n",
       "      <th>college_prep_Yes</th>\n",
       "      <th>major_applied_Arts</th>\n",
       "      <th>...</th>\n",
       "      <th>major_applied_History</th>\n",
       "      <th>major_applied_Information Systems</th>\n",
       "      <th>major_applied_Language</th>\n",
       "      <th>major_applied_Life Sciences</th>\n",
       "      <th>major_applied_Social Sciences</th>\n",
       "      <th>fasfa_status_Completed</th>\n",
       "      <th>fasfa_status_In Progress</th>\n",
       "      <th>fasfa_status_Not Started</th>\n",
       "      <th>admission_Accepted</th>\n",
       "      <th>admission_Rejected</th>\n",
       "    </tr>\n",
       "  </thead>\n",
       "  <tbody>\n",
       "    <tr>\n",
       "      <th>0</th>\n",
       "      <td>1</td>\n",
       "      <td>3.43</td>\n",
       "      <td>284</td>\n",
       "      <td>1</td>\n",
       "      <td>8</td>\n",
       "      <td>6</td>\n",
       "      <td>3</td>\n",
       "      <td>0</td>\n",
       "      <td>1</td>\n",
       "      <td>0</td>\n",
       "      <td>...</td>\n",
       "      <td>0</td>\n",
       "      <td>0</td>\n",
       "      <td>0</td>\n",
       "      <td>0</td>\n",
       "      <td>0</td>\n",
       "      <td>1</td>\n",
       "      <td>0</td>\n",
       "      <td>0</td>\n",
       "      <td>0</td>\n",
       "      <td>1</td>\n",
       "    </tr>\n",
       "    <tr>\n",
       "      <th>1</th>\n",
       "      <td>2</td>\n",
       "      <td>3.31</td>\n",
       "      <td>297</td>\n",
       "      <td>4</td>\n",
       "      <td>8</td>\n",
       "      <td>10</td>\n",
       "      <td>3</td>\n",
       "      <td>0</td>\n",
       "      <td>1</td>\n",
       "      <td>0</td>\n",
       "      <td>...</td>\n",
       "      <td>0</td>\n",
       "      <td>0</td>\n",
       "      <td>0</td>\n",
       "      <td>0</td>\n",
       "      <td>0</td>\n",
       "      <td>0</td>\n",
       "      <td>1</td>\n",
       "      <td>0</td>\n",
       "      <td>1</td>\n",
       "      <td>0</td>\n",
       "    </tr>\n",
       "    <tr>\n",
       "      <th>2</th>\n",
       "      <td>3</td>\n",
       "      <td>3.08</td>\n",
       "      <td>304</td>\n",
       "      <td>0</td>\n",
       "      <td>5</td>\n",
       "      <td>7</td>\n",
       "      <td>3</td>\n",
       "      <td>0</td>\n",
       "      <td>1</td>\n",
       "      <td>0</td>\n",
       "      <td>...</td>\n",
       "      <td>0</td>\n",
       "      <td>0</td>\n",
       "      <td>0</td>\n",
       "      <td>1</td>\n",
       "      <td>0</td>\n",
       "      <td>0</td>\n",
       "      <td>0</td>\n",
       "      <td>1</td>\n",
       "      <td>1</td>\n",
       "      <td>0</td>\n",
       "    </tr>\n",
       "    <tr>\n",
       "      <th>3</th>\n",
       "      <td>4</td>\n",
       "      <td>3.70</td>\n",
       "      <td>309</td>\n",
       "      <td>0</td>\n",
       "      <td>7</td>\n",
       "      <td>4</td>\n",
       "      <td>2</td>\n",
       "      <td>0</td>\n",
       "      <td>1</td>\n",
       "      <td>0</td>\n",
       "      <td>...</td>\n",
       "      <td>0</td>\n",
       "      <td>0</td>\n",
       "      <td>0</td>\n",
       "      <td>0</td>\n",
       "      <td>1</td>\n",
       "      <td>0</td>\n",
       "      <td>1</td>\n",
       "      <td>0</td>\n",
       "      <td>1</td>\n",
       "      <td>0</td>\n",
       "    </tr>\n",
       "    <tr>\n",
       "      <th>4</th>\n",
       "      <td>5</td>\n",
       "      <td>3.04</td>\n",
       "      <td>295</td>\n",
       "      <td>5</td>\n",
       "      <td>5</td>\n",
       "      <td>10</td>\n",
       "      <td>2</td>\n",
       "      <td>1</td>\n",
       "      <td>0</td>\n",
       "      <td>0</td>\n",
       "      <td>...</td>\n",
       "      <td>0</td>\n",
       "      <td>0</td>\n",
       "      <td>0</td>\n",
       "      <td>0</td>\n",
       "      <td>0</td>\n",
       "      <td>1</td>\n",
       "      <td>0</td>\n",
       "      <td>0</td>\n",
       "      <td>1</td>\n",
       "      <td>0</td>\n",
       "    </tr>\n",
       "  </tbody>\n",
       "</table>\n",
       "<p>5 rows × 23 columns</p>\n",
       "</div>"
      ],
      "text/plain": [
       "   id   gpa  gre  num_ext_act  num_ap_passed  essay_score  num_letter_rec  \\\n",
       "0   1  3.43  284            1              8            6               3   \n",
       "1   2  3.31  297            4              8           10               3   \n",
       "2   3  3.08  304            0              5            7               3   \n",
       "3   4  3.70  309            0              7            4               2   \n",
       "4   5  3.04  295            5              5           10               2   \n",
       "\n",
       "   college_prep_No  college_prep_Yes  major_applied_Arts  ...  \\\n",
       "0                0                 1                   0  ...   \n",
       "1                0                 1                   0  ...   \n",
       "2                0                 1                   0  ...   \n",
       "3                0                 1                   0  ...   \n",
       "4                1                 0                   0  ...   \n",
       "\n",
       "   major_applied_History  major_applied_Information Systems  \\\n",
       "0                      0                                  0   \n",
       "1                      0                                  0   \n",
       "2                      0                                  0   \n",
       "3                      0                                  0   \n",
       "4                      0                                  0   \n",
       "\n",
       "   major_applied_Language  major_applied_Life Sciences  \\\n",
       "0                       0                            0   \n",
       "1                       0                            0   \n",
       "2                       0                            1   \n",
       "3                       0                            0   \n",
       "4                       0                            0   \n",
       "\n",
       "   major_applied_Social Sciences  fasfa_status_Completed  \\\n",
       "0                              0                       1   \n",
       "1                              0                       0   \n",
       "2                              0                       0   \n",
       "3                              1                       0   \n",
       "4                              0                       1   \n",
       "\n",
       "   fasfa_status_In Progress  fasfa_status_Not Started  admission_Accepted  \\\n",
       "0                         0                         0                   0   \n",
       "1                         1                         0                   1   \n",
       "2                         0                         1                   1   \n",
       "3                         1                         0                   1   \n",
       "4                         0                         0                   1   \n",
       "\n",
       "   admission_Rejected  \n",
       "0                   1  \n",
       "1                   0  \n",
       "2                   0  \n",
       "3                   0  \n",
       "4                   0  \n",
       "\n",
       "[5 rows x 23 columns]"
      ]
     },
     "execution_count": 32,
     "metadata": {},
     "output_type": "execute_result"
    }
   ],
   "source": [
    "##dummy coding categorial features \n",
    "df_dc = pd.get_dummies(df, columns=['college_prep','major_applied','fasfa_status','admission'])\n",
    "df_dc.head()"
   ]
  },
  {
   "cell_type": "code",
   "execution_count": 95,
   "id": "9b8e6385",
   "metadata": {},
   "outputs": [],
   "source": [
    "import pandas as pd "
   ]
  },
  {
   "cell_type": "code",
   "execution_count": 96,
   "id": "e995e096",
   "metadata": {},
   "outputs": [],
   "source": [
    "from matplotlib import pyplot as plt\n",
    "%matplotlib inline "
   ]
  },
  {
   "cell_type": "code",
   "execution_count": 98,
   "id": "ad8c0dee",
   "metadata": {},
   "outputs": [],
   "source": [
    "df = df_dc"
   ]
  },
  {
   "cell_type": "code",
   "execution_count": 99,
   "id": "13485f56",
   "metadata": {},
   "outputs": [
    {
     "data": {
      "text/html": [
       "<div>\n",
       "<style scoped>\n",
       "    .dataframe tbody tr th:only-of-type {\n",
       "        vertical-align: middle;\n",
       "    }\n",
       "\n",
       "    .dataframe tbody tr th {\n",
       "        vertical-align: top;\n",
       "    }\n",
       "\n",
       "    .dataframe thead th {\n",
       "        text-align: right;\n",
       "    }\n",
       "</style>\n",
       "<table border=\"1\" class=\"dataframe\">\n",
       "  <thead>\n",
       "    <tr style=\"text-align: right;\">\n",
       "      <th></th>\n",
       "      <th>id</th>\n",
       "      <th>gpa</th>\n",
       "      <th>gre</th>\n",
       "      <th>num_ext_act</th>\n",
       "      <th>num_ap_passed</th>\n",
       "      <th>essay_score</th>\n",
       "      <th>num_letter_rec</th>\n",
       "      <th>college_prep_No</th>\n",
       "      <th>college_prep_Yes</th>\n",
       "      <th>major_applied_Arts</th>\n",
       "      <th>...</th>\n",
       "      <th>major_applied_History</th>\n",
       "      <th>major_applied_Information Systems</th>\n",
       "      <th>major_applied_Language</th>\n",
       "      <th>major_applied_Life Sciences</th>\n",
       "      <th>major_applied_Social Sciences</th>\n",
       "      <th>fasfa_status_Completed</th>\n",
       "      <th>fasfa_status_In Progress</th>\n",
       "      <th>fasfa_status_Not Started</th>\n",
       "      <th>admission_Accepted</th>\n",
       "      <th>admission_Rejected</th>\n",
       "    </tr>\n",
       "  </thead>\n",
       "  <tbody>\n",
       "    <tr>\n",
       "      <th>0</th>\n",
       "      <td>1</td>\n",
       "      <td>3.43</td>\n",
       "      <td>284</td>\n",
       "      <td>1</td>\n",
       "      <td>8</td>\n",
       "      <td>6</td>\n",
       "      <td>3</td>\n",
       "      <td>0</td>\n",
       "      <td>1</td>\n",
       "      <td>0</td>\n",
       "      <td>...</td>\n",
       "      <td>0</td>\n",
       "      <td>0</td>\n",
       "      <td>0</td>\n",
       "      <td>0</td>\n",
       "      <td>0</td>\n",
       "      <td>1</td>\n",
       "      <td>0</td>\n",
       "      <td>0</td>\n",
       "      <td>0</td>\n",
       "      <td>1</td>\n",
       "    </tr>\n",
       "    <tr>\n",
       "      <th>1</th>\n",
       "      <td>2</td>\n",
       "      <td>3.31</td>\n",
       "      <td>297</td>\n",
       "      <td>4</td>\n",
       "      <td>8</td>\n",
       "      <td>10</td>\n",
       "      <td>3</td>\n",
       "      <td>0</td>\n",
       "      <td>1</td>\n",
       "      <td>0</td>\n",
       "      <td>...</td>\n",
       "      <td>0</td>\n",
       "      <td>0</td>\n",
       "      <td>0</td>\n",
       "      <td>0</td>\n",
       "      <td>0</td>\n",
       "      <td>0</td>\n",
       "      <td>1</td>\n",
       "      <td>0</td>\n",
       "      <td>1</td>\n",
       "      <td>0</td>\n",
       "    </tr>\n",
       "    <tr>\n",
       "      <th>2</th>\n",
       "      <td>3</td>\n",
       "      <td>3.08</td>\n",
       "      <td>304</td>\n",
       "      <td>0</td>\n",
       "      <td>5</td>\n",
       "      <td>7</td>\n",
       "      <td>3</td>\n",
       "      <td>0</td>\n",
       "      <td>1</td>\n",
       "      <td>0</td>\n",
       "      <td>...</td>\n",
       "      <td>0</td>\n",
       "      <td>0</td>\n",
       "      <td>0</td>\n",
       "      <td>1</td>\n",
       "      <td>0</td>\n",
       "      <td>0</td>\n",
       "      <td>0</td>\n",
       "      <td>1</td>\n",
       "      <td>1</td>\n",
       "      <td>0</td>\n",
       "    </tr>\n",
       "    <tr>\n",
       "      <th>3</th>\n",
       "      <td>4</td>\n",
       "      <td>3.70</td>\n",
       "      <td>309</td>\n",
       "      <td>0</td>\n",
       "      <td>7</td>\n",
       "      <td>4</td>\n",
       "      <td>2</td>\n",
       "      <td>0</td>\n",
       "      <td>1</td>\n",
       "      <td>0</td>\n",
       "      <td>...</td>\n",
       "      <td>0</td>\n",
       "      <td>0</td>\n",
       "      <td>0</td>\n",
       "      <td>0</td>\n",
       "      <td>1</td>\n",
       "      <td>0</td>\n",
       "      <td>1</td>\n",
       "      <td>0</td>\n",
       "      <td>1</td>\n",
       "      <td>0</td>\n",
       "    </tr>\n",
       "    <tr>\n",
       "      <th>4</th>\n",
       "      <td>5</td>\n",
       "      <td>3.04</td>\n",
       "      <td>295</td>\n",
       "      <td>5</td>\n",
       "      <td>5</td>\n",
       "      <td>10</td>\n",
       "      <td>2</td>\n",
       "      <td>1</td>\n",
       "      <td>0</td>\n",
       "      <td>0</td>\n",
       "      <td>...</td>\n",
       "      <td>0</td>\n",
       "      <td>0</td>\n",
       "      <td>0</td>\n",
       "      <td>0</td>\n",
       "      <td>0</td>\n",
       "      <td>1</td>\n",
       "      <td>0</td>\n",
       "      <td>0</td>\n",
       "      <td>1</td>\n",
       "      <td>0</td>\n",
       "    </tr>\n",
       "  </tbody>\n",
       "</table>\n",
       "<p>5 rows × 23 columns</p>\n",
       "</div>"
      ],
      "text/plain": [
       "   id   gpa  gre  num_ext_act  num_ap_passed  essay_score  num_letter_rec  \\\n",
       "0   1  3.43  284            1              8            6               3   \n",
       "1   2  3.31  297            4              8           10               3   \n",
       "2   3  3.08  304            0              5            7               3   \n",
       "3   4  3.70  309            0              7            4               2   \n",
       "4   5  3.04  295            5              5           10               2   \n",
       "\n",
       "   college_prep_No  college_prep_Yes  major_applied_Arts  ...  \\\n",
       "0                0                 1                   0  ...   \n",
       "1                0                 1                   0  ...   \n",
       "2                0                 1                   0  ...   \n",
       "3                0                 1                   0  ...   \n",
       "4                1                 0                   0  ...   \n",
       "\n",
       "   major_applied_History  major_applied_Information Systems  \\\n",
       "0                      0                                  0   \n",
       "1                      0                                  0   \n",
       "2                      0                                  0   \n",
       "3                      0                                  0   \n",
       "4                      0                                  0   \n",
       "\n",
       "   major_applied_Language  major_applied_Life Sciences  \\\n",
       "0                       0                            0   \n",
       "1                       0                            0   \n",
       "2                       0                            1   \n",
       "3                       0                            0   \n",
       "4                       0                            0   \n",
       "\n",
       "   major_applied_Social Sciences  fasfa_status_Completed  \\\n",
       "0                              0                       1   \n",
       "1                              0                       0   \n",
       "2                              0                       0   \n",
       "3                              1                       0   \n",
       "4                              0                       1   \n",
       "\n",
       "   fasfa_status_In Progress  fasfa_status_Not Started  admission_Accepted  \\\n",
       "0                         0                         0                   0   \n",
       "1                         1                         0                   1   \n",
       "2                         0                         1                   1   \n",
       "3                         1                         0                   1   \n",
       "4                         0                         0                   1   \n",
       "\n",
       "   admission_Rejected  \n",
       "0                   1  \n",
       "1                   0  \n",
       "2                   0  \n",
       "3                   0  \n",
       "4                   0  \n",
       "\n",
       "[5 rows x 23 columns]"
      ]
     },
     "execution_count": 99,
     "metadata": {},
     "output_type": "execute_result"
    }
   ],
   "source": [
    "df.head()"
   ]
  },
  {
   "cell_type": "code",
   "execution_count": 104,
   "id": "5b4f03ae",
   "metadata": {},
   "outputs": [
    {
     "data": {
      "text/plain": [
       "<matplotlib.collections.PathCollection at 0x7fd0c5706130>"
      ]
     },
     "execution_count": 104,
     "metadata": {},
     "output_type": "execute_result"
    },
    {
     "data": {
      "image/png": "[encoded data removed]",
      "text/plain": [
       "<Figure size 432x288 with 1 Axes>"
      ]
     },
     "metadata": {
      "needs_background": "light"
     },
     "output_type": "display_data"
    }
   ],
   "source": [
    "plt.scatter(df.gpa, df.admission_Accepted, marker = '+', color = 'red')"
   ]
  },
  {
   "cell_type": "code",
   "execution_count": 105,
   "id": "3feeb39f",
   "metadata": {},
   "outputs": [],
   "source": [
    "#split the data set by splitting rows into training set and test set \n",
    "from sklearn.model_selection import train_test_split"
   ]
  },
  {
   "cell_type": "code",
   "execution_count": 126,
   "id": "89fc3b8c",
   "metadata": {},
   "outputs": [],
   "source": [
    "x_train, x_test, y_train, y_test = train_test_split(df[['gpa']],df.admission_Accepted, test_size=0.4) #test size is 10%"
   ]
  },
  {
   "cell_type": "code",
   "execution_count": 127,
   "id": "9a83b168",
   "metadata": {},
   "outputs": [
    {
     "data": {
      "text/html": [
       "<div>\n",
       "<style scoped>\n",
       "    .dataframe tbody tr th:only-of-type {\n",
       "        vertical-align: middle;\n",
       "    }\n",
       "\n",
       "    .dataframe tbody tr th {\n",
       "        vertical-align: top;\n",
       "    }\n",
       "\n",
       "    .dataframe thead th {\n",
       "        text-align: right;\n",
       "    }\n",
       "</style>\n",
       "<table border=\"1\" class=\"dataframe\">\n",
       "  <thead>\n",
       "    <tr style=\"text-align: right;\">\n",
       "      <th></th>\n",
       "      <th>gpa</th>\n",
       "    </tr>\n",
       "  </thead>\n",
       "  <tbody>\n",
       "    <tr>\n",
       "      <th>23067</th>\n",
       "      <td>2.58</td>\n",
       "    </tr>\n",
       "    <tr>\n",
       "      <th>5430</th>\n",
       "      <td>3.22</td>\n",
       "    </tr>\n",
       "    <tr>\n",
       "      <th>10775</th>\n",
       "      <td>3.88</td>\n",
       "    </tr>\n",
       "    <tr>\n",
       "      <th>23655</th>\n",
       "      <td>2.78</td>\n",
       "    </tr>\n",
       "    <tr>\n",
       "      <th>19423</th>\n",
       "      <td>3.53</td>\n",
       "    </tr>\n",
       "    <tr>\n",
       "      <th>...</th>\n",
       "      <td>...</td>\n",
       "    </tr>\n",
       "    <tr>\n",
       "      <th>8994</th>\n",
       "      <td>3.56</td>\n",
       "    </tr>\n",
       "    <tr>\n",
       "      <th>10241</th>\n",
       "      <td>3.58</td>\n",
       "    </tr>\n",
       "    <tr>\n",
       "      <th>17353</th>\n",
       "      <td>3.06</td>\n",
       "    </tr>\n",
       "    <tr>\n",
       "      <th>22089</th>\n",
       "      <td>3.35</td>\n",
       "    </tr>\n",
       "    <tr>\n",
       "      <th>2233</th>\n",
       "      <td>3.30</td>\n",
       "    </tr>\n",
       "  </tbody>\n",
       "</table>\n",
       "<p>10000 rows × 1 columns</p>\n",
       "</div>"
      ],
      "text/plain": [
       "        gpa\n",
       "23067  2.58\n",
       "5430   3.22\n",
       "10775  3.88\n",
       "23655  2.78\n",
       "19423  3.53\n",
       "...     ...\n",
       "8994   3.56\n",
       "10241  3.58\n",
       "17353  3.06\n",
       "22089  3.35\n",
       "2233   3.30\n",
       "\n",
       "[10000 rows x 1 columns]"
      ]
     },
     "execution_count": 127,
     "metadata": {},
     "output_type": "execute_result"
    }
   ],
   "source": [
    "x_test #shows values tested "
   ]
  },
  {
   "cell_type": "code",
   "execution_count": 128,
   "id": "51a1886c",
   "metadata": {},
   "outputs": [
    {
     "data": {
      "text/html": [
       "<div>\n",
       "<style scoped>\n",
       "    .dataframe tbody tr th:only-of-type {\n",
       "        vertical-align: middle;\n",
       "    }\n",
       "\n",
       "    .dataframe tbody tr th {\n",
       "        vertical-align: top;\n",
       "    }\n",
       "\n",
       "    .dataframe thead th {\n",
       "        text-align: right;\n",
       "    }\n",
       "</style>\n",
       "<table border=\"1\" class=\"dataframe\">\n",
       "  <thead>\n",
       "    <tr style=\"text-align: right;\">\n",
       "      <th></th>\n",
       "      <th>gpa</th>\n",
       "    </tr>\n",
       "  </thead>\n",
       "  <tbody>\n",
       "    <tr>\n",
       "      <th>9615</th>\n",
       "      <td>2.66</td>\n",
       "    </tr>\n",
       "    <tr>\n",
       "      <th>15174</th>\n",
       "      <td>3.77</td>\n",
       "    </tr>\n",
       "    <tr>\n",
       "      <th>1139</th>\n",
       "      <td>3.13</td>\n",
       "    </tr>\n",
       "    <tr>\n",
       "      <th>9510</th>\n",
       "      <td>2.53</td>\n",
       "    </tr>\n",
       "    <tr>\n",
       "      <th>12169</th>\n",
       "      <td>3.79</td>\n",
       "    </tr>\n",
       "    <tr>\n",
       "      <th>...</th>\n",
       "      <td>...</td>\n",
       "    </tr>\n",
       "    <tr>\n",
       "      <th>5887</th>\n",
       "      <td>3.63</td>\n",
       "    </tr>\n",
       "    <tr>\n",
       "      <th>3350</th>\n",
       "      <td>3.86</td>\n",
       "    </tr>\n",
       "    <tr>\n",
       "      <th>20049</th>\n",
       "      <td>3.93</td>\n",
       "    </tr>\n",
       "    <tr>\n",
       "      <th>7631</th>\n",
       "      <td>2.75</td>\n",
       "    </tr>\n",
       "    <tr>\n",
       "      <th>15491</th>\n",
       "      <td>2.94</td>\n",
       "    </tr>\n",
       "  </tbody>\n",
       "</table>\n",
       "<p>15000 rows × 1 columns</p>\n",
       "</div>"
      ],
      "text/plain": [
       "        gpa\n",
       "9615   2.66\n",
       "15174  3.77\n",
       "1139   3.13\n",
       "9510   2.53\n",
       "12169  3.79\n",
       "...     ...\n",
       "5887   3.63\n",
       "3350   3.86\n",
       "20049  3.93\n",
       "7631   2.75\n",
       "15491  2.94\n",
       "\n",
       "[15000 rows x 1 columns]"
      ]
     },
     "execution_count": 128,
     "metadata": {},
     "output_type": "execute_result"
    }
   ],
   "source": [
    "x_train #shows values trained "
   ]
  },
  {
   "cell_type": "code",
   "execution_count": 129,
   "id": "eff1b661",
   "metadata": {},
   "outputs": [],
   "source": [
    "from sklearn.linear_model import LogisticRegression"
   ]
  },
  {
   "cell_type": "code",
   "execution_count": 130,
   "id": "ff29777e",
   "metadata": {},
   "outputs": [],
   "source": [
    "model = LogisticRegression()"
   ]
  },
  {
   "cell_type": "code",
   "execution_count": 131,
   "id": "db404ab4",
   "metadata": {},
   "outputs": [
    {
     "data": {
      "text/plain": [
       "LogisticRegression()"
      ]
     },
     "execution_count": 131,
     "metadata": {},
     "output_type": "execute_result"
    }
   ],
   "source": [
    "model.fit(x_train,y_train)"
   ]
  },
  {
   "cell_type": "code",
   "execution_count": 132,
   "id": "afa7dd4d",
   "metadata": {},
   "outputs": [
    {
     "data": {
      "text/plain": [
       "array([1, 1, 1, ..., 1, 1, 1], dtype=uint8)"
      ]
     },
     "execution_count": 132,
     "metadata": {},
     "output_type": "execute_result"
    }
   ],
   "source": [
    "model.predict(x_test) #saying the first values aren't going to be admissions accepted "
   ]
  },
  {
   "cell_type": "code",
   "execution_count": 133,
   "id": "52b39d68",
   "metadata": {},
   "outputs": [
    {
     "data": {
      "text/plain": [
       "0.7218"
      ]
     },
     "execution_count": 133,
     "metadata": {},
     "output_type": "execute_result"
    }
   ],
   "source": [
    "model.score(x_test, y_test) #showing accuracy of model close to 1 so pretty accurate "
   ]
  },
  {
   "cell_type": "code",
   "execution_count": 134,
   "id": "21f91870",
   "metadata": {},
   "outputs": [
    {
     "data": {
      "text/plain": [
       "array([[0.29511183, 0.70488817],\n",
       "       [0.28645244, 0.71354756],\n",
       "       [0.27768366, 0.72231634],\n",
       "       ...,\n",
       "       [0.28860299, 0.71139701],\n",
       "       [0.28471219, 0.71528781],\n",
       "       [0.28538076, 0.71461924]])"
      ]
     },
     "execution_count": 134,
     "metadata": {},
     "output_type": "execute_result"
    }
   ],
   "source": [
    "model.predict_proba(x_test) #predict the probability first if they're admitted second is if they're rejected"
   ]
  },
  {
   "cell_type": "code",
   "execution_count": null,
   "id": "94a0ddb7",
   "metadata": {},
   "outputs": [],
   "source": []
  },
  {
   "cell_type": "code",
   "execution_count": null,
   "id": "21d4f675",
   "metadata": {},
   "outputs": [],
   "source": []
  }
 ],
 "metadata": {
  "kernelspec": {
   "display_name": "Python 3 (ipykernel)",
   "language": "python",
   "name": "python3"
  },
  "language_info": {
   "codemirror_mode": {
    "name": "ipython",
    "version": 3
   },
   "file_extension": ".py",
   "mimetype": "text/x-python",
   "name": "python",
   "nbconvert_exporter": "python",
   "pygments_lexer": "ipython3",
   "version": "3.9.12"
  }
 },
 "nbformat": 4,
 "nbformat_minor": 5
}
